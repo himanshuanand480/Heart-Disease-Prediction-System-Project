{
  "nbformat": 4,
  "nbformat_minor": 0,
  "metadata": {
    "colab": {
      "provenance": []
    },
    "kernelspec": {
      "name": "python3",
      "display_name": "Python 3"
    },
    "language_info": {
      "name": "python"
    }
  },
  "cells": [
    {
      "cell_type": "code",
      "execution_count": null,
      "metadata": {
        "colab": {
          "base_uri": "https://localhost:8080/"
        },
        "id": "3R6wI6M46LhE",
        "outputId": "8ea3bda6-dac1-4691-ca02-7fcc24a11d4c"
      },
      "outputs": [
        {
          "output_type": "stream",
          "name": "stdout",
          "text": [
            "Starting model training process...\n",
            "Dataset 'heart.csv' loaded successfully.\n",
            "Data preprocessing (one-hot encoding) complete.\n",
            "Data split into training and testing sets.\n",
            "Model training is complete.\n",
            "Model Accuracy on test data: 86.41%\n",
            "\n",
            "Process finished. Model has been saved as 'heart_disease_model.pkl'.\n"
          ]
        }
      ],
      "source": [
        "import pandas as pd\n",
        "from sklearn.model_selection import train_test_split\n",
        "from sklearn.ensemble import RandomForestClassifier\n",
        "from sklearn.metrics import accuracy_score\n",
        "import pickle\n",
        "\n",
        "print(\"Starting model training process...\")\n",
        "\n",
        "# --- 1. Load the Dataset ---\n",
        "try:\n",
        "    # IMPORTANT: Make sure 'heart.csv' is in the same directory as this script.\n",
        "    df = pd.read_csv('/content/heart (2).csv')\n",
        "    print(\"Dataset 'heart.csv' loaded successfully.\")\n",
        "except FileNotFoundError:\n",
        "    print(\"Error: 'heart.csv' not found. Please place the dataset file in the same directory.\")\n",
        "    exit() # Exit the script if the file is not found\n",
        "\n",
        "# --- 2. Data Preprocessing ---\n",
        "# Convert categorical features into numerical format using one-hot encoding.\n",
        "df_processed = pd.get_dummies(df, columns=['Sex', 'ChestPainType', 'RestingECG', 'ExerciseAngina', 'ST_Slope'], drop_first=True)\n",
        "print(\"Data preprocessing (one-hot encoding) complete.\")\n",
        "\n",
        "# --- 3. Model Training ---\n",
        "# Define the features (X) and the target (y)\n",
        "X = df_processed.drop('HeartDisease', axis=1)\n",
        "y = df_processed['HeartDisease']\n",
        "\n",
        "# Split data into training and testing sets for evaluation\n",
        "X_train, X_test, y_train, y_test = train_test_split(X, y, test_size=0.2, random_state=42, stratify=y)\n",
        "print(\"Data split into training and testing sets.\")\n",
        "\n",
        "# Initialize and train the RandomForestClassifier\n",
        "model = RandomForestClassifier(n_estimators=150, random_state=42, max_depth=5)\n",
        "model.fit(X_train, y_train)\n",
        "print(\"Model training is complete.\")\n",
        "\n",
        "# --- 4. Model Evaluation ---\n",
        "# Make predictions on the test set to check accuracy\n",
        "y_pred = model.predict(X_test)\n",
        "accuracy = accuracy_score(y_test, y_pred)\n",
        "print(f\"Model Accuracy on test data: {accuracy * 100:.2f}%\")\n",
        "\n",
        "# --- 5. Save the Trained Model ---\n",
        "# The model and the column order are saved to be used by the app.\n",
        "model_data = {\n",
        "    'model': model,\n",
        "    'columns': X.columns\n",
        "}\n",
        "\n",
        "with open('heart_disease_model.pkl', 'wb') as file:\n",
        "    pickle.dump(model_data, file)\n",
        "\n",
        "print(\"\\nProcess finished. Model has been saved as 'heart_disease_model.pkl'.\")\n"
      ]
    },
    {
      "cell_type": "code",
      "metadata": {
        "colab": {
          "base_uri": "https://localhost:8080/",
          "height": 52
        },
        "id": "1179250c",
        "outputId": "a540ecc1-ad0f-4e91-9ba5-516715900d77"
      },
      "source": [
        "from google.colab import files\n",
        "\n",
        "print(\"\\n⬇️ Downloading file...\")\n",
        "files.download('heart_disease_model.pkl')"
      ],
      "execution_count": null,
      "outputs": [
        {
          "output_type": "stream",
          "name": "stdout",
          "text": [
            "\n",
            "⬇️ Downloading file...\n"
          ]
        },
        {
          "output_type": "display_data",
          "data": {
            "text/plain": [
              "<IPython.core.display.Javascript object>"
            ],
            "application/javascript": [
              "\n",
              "    async function download(id, filename, size) {\n",
              "      if (!google.colab.kernel.accessAllowed) {\n",
              "        return;\n",
              "      }\n",
              "      const div = document.createElement('div');\n",
              "      const label = document.createElement('label');\n",
              "      label.textContent = `Downloading \"${filename}\": `;\n",
              "      div.appendChild(label);\n",
              "      const progress = document.createElement('progress');\n",
              "      progress.max = size;\n",
              "      div.appendChild(progress);\n",
              "      document.body.appendChild(div);\n",
              "\n",
              "      const buffers = [];\n",
              "      let downloaded = 0;\n",
              "\n",
              "      const channel = await google.colab.kernel.comms.open(id);\n",
              "      // Send a message to notify the kernel that we're ready.\n",
              "      channel.send({})\n",
              "\n",
              "      for await (const message of channel.messages) {\n",
              "        // Send a message to notify the kernel that we're ready.\n",
              "        channel.send({})\n",
              "        if (message.buffers) {\n",
              "          for (const buffer of message.buffers) {\n",
              "            buffers.push(buffer);\n",
              "            downloaded += buffer.byteLength;\n",
              "            progress.value = downloaded;\n",
              "          }\n",
              "        }\n",
              "      }\n",
              "      const blob = new Blob(buffers, {type: 'application/binary'});\n",
              "      const a = document.createElement('a');\n",
              "      a.href = window.URL.createObjectURL(blob);\n",
              "      a.download = filename;\n",
              "      div.appendChild(a);\n",
              "      a.click();\n",
              "      div.remove();\n",
              "    }\n",
              "  "
            ]
          },
          "metadata": {}
        },
        {
          "output_type": "display_data",
          "data": {
            "text/plain": [
              "<IPython.core.display.Javascript object>"
            ],
            "application/javascript": [
              "download(\"download_283bdf03-af3b-4725-8197-3ecab770f785\", \"heart_disease_model.pkl\", 661981)"
            ]
          },
          "metadata": {}
        }
      ]
    },
    {
      "cell_type": "code",
      "source": [
        "import joblib\n",
        "\n",
        "model = joblib.load(\"heart_disease_model.pkl\")\n",
        "print(type(model))\n"
      ],
      "metadata": {
        "colab": {
          "base_uri": "https://localhost:8080/"
        },
        "id": "C_bLjABjB62h",
        "outputId": "ef96a688-ef91-4c83-e8b6-7efb795cda95"
      },
      "execution_count": null,
      "outputs": [
        {
          "output_type": "stream",
          "name": "stdout",
          "text": [
            "<class 'dict'>\n"
          ]
        }
      ]
    },
    {
      "cell_type": "code",
      "source": [],
      "metadata": {
        "id": "MJJ0l5R5C9P4"
      },
      "execution_count": null,
      "outputs": []
    },
    {
      "cell_type": "code",
      "source": [],
      "metadata": {
        "id": "6BjcvG_UDe3t"
      },
      "execution_count": null,
      "outputs": []
    }
  ]
}